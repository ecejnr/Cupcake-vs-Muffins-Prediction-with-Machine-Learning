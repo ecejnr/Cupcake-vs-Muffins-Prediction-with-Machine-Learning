{
 "cells": [
  {
   "cell_type": "code",
   "execution_count": 2,
   "id": "82b489a5",
   "metadata": {},
   "outputs": [],
   "source": [
    "# packages for Data analysis\n",
    "import numpy as np\n",
    "import pandas as pd\n",
    "\n",
    "#algorithm used \n",
    "#support vector machine\n",
    "from sklearn import svm\n",
    "\n",
    "# visual your data\n",
    "import matplotlib.pyplot as plt\n",
    "import seaborn as sns; sns.set(font_scale=1.2)\n",
    "\n",
    "%matplotlib inline"
   ]
  },
  {
   "cell_type": "code",
   "execution_count": 5,
   "id": "fadf5755",
   "metadata": {},
   "outputs": [],
   "source": [
    "df = pd.read_csv('Cupcakes vs Muffins.csv')"
   ]
  },
  {
   "cell_type": "code",
   "execution_count": 6,
   "id": "280476ff",
   "metadata": {},
   "outputs": [
    {
     "data": {
      "text/html": [
       "<div>\n",
       "<style scoped>\n",
       "    .dataframe tbody tr th:only-of-type {\n",
       "        vertical-align: middle;\n",
       "    }\n",
       "\n",
       "    .dataframe tbody tr th {\n",
       "        vertical-align: top;\n",
       "    }\n",
       "\n",
       "    .dataframe thead th {\n",
       "        text-align: right;\n",
       "    }\n",
       "</style>\n",
       "<table border=\"1\" class=\"dataframe\">\n",
       "  <thead>\n",
       "    <tr style=\"text-align: right;\">\n",
       "      <th></th>\n",
       "      <th>Type</th>\n",
       "      <th>Flour</th>\n",
       "      <th>Milk</th>\n",
       "      <th>Sugar</th>\n",
       "      <th>Butter</th>\n",
       "      <th>Egg</th>\n",
       "      <th>Baking Powder</th>\n",
       "      <th>Vanilla</th>\n",
       "      <th>Salt</th>\n",
       "    </tr>\n",
       "  </thead>\n",
       "  <tbody>\n",
       "    <tr>\n",
       "      <th>0</th>\n",
       "      <td>Muffin</td>\n",
       "      <td>55</td>\n",
       "      <td>28</td>\n",
       "      <td>3</td>\n",
       "      <td>7</td>\n",
       "      <td>5</td>\n",
       "      <td>2</td>\n",
       "      <td>0</td>\n",
       "      <td>0</td>\n",
       "    </tr>\n",
       "    <tr>\n",
       "      <th>1</th>\n",
       "      <td>Muffin</td>\n",
       "      <td>47</td>\n",
       "      <td>24</td>\n",
       "      <td>12</td>\n",
       "      <td>6</td>\n",
       "      <td>9</td>\n",
       "      <td>1</td>\n",
       "      <td>0</td>\n",
       "      <td>0</td>\n",
       "    </tr>\n",
       "    <tr>\n",
       "      <th>2</th>\n",
       "      <td>Muffin</td>\n",
       "      <td>47</td>\n",
       "      <td>23</td>\n",
       "      <td>18</td>\n",
       "      <td>6</td>\n",
       "      <td>4</td>\n",
       "      <td>1</td>\n",
       "      <td>0</td>\n",
       "      <td>0</td>\n",
       "    </tr>\n",
       "    <tr>\n",
       "      <th>3</th>\n",
       "      <td>Muffin</td>\n",
       "      <td>45</td>\n",
       "      <td>11</td>\n",
       "      <td>17</td>\n",
       "      <td>17</td>\n",
       "      <td>8</td>\n",
       "      <td>1</td>\n",
       "      <td>0</td>\n",
       "      <td>0</td>\n",
       "    </tr>\n",
       "    <tr>\n",
       "      <th>4</th>\n",
       "      <td>Muffin</td>\n",
       "      <td>50</td>\n",
       "      <td>25</td>\n",
       "      <td>12</td>\n",
       "      <td>6</td>\n",
       "      <td>5</td>\n",
       "      <td>2</td>\n",
       "      <td>1</td>\n",
       "      <td>0</td>\n",
       "    </tr>\n",
       "  </tbody>\n",
       "</table>\n",
       "</div>"
      ],
      "text/plain": [
       "     Type  Flour  Milk  Sugar  Butter  Egg  Baking Powder  Vanilla  Salt\n",
       "0  Muffin     55    28      3       7    5              2        0     0\n",
       "1  Muffin     47    24     12       6    9              1        0     0\n",
       "2  Muffin     47    23     18       6    4              1        0     0\n",
       "3  Muffin     45    11     17      17    8              1        0     0\n",
       "4  Muffin     50    25     12       6    5              2        1     0"
      ]
     },
     "execution_count": 6,
     "metadata": {},
     "output_type": "execute_result"
    }
   ],
   "source": [
    "df.head()"
   ]
  },
  {
   "cell_type": "code",
   "execution_count": 15,
   "id": "1cbab49c",
   "metadata": {},
   "outputs": [
    {
     "data": {
      "image/png": "[encoded data removed]",
      "text/plain": [
       "<Figure size 459.77x360 with 1 Axes>"
      ]
     },
     "metadata": {
      "needs_background": "light"
     },
     "output_type": "display_data"
    }
   ],
   "source": [
    "# plot our data\n",
    "sns.lmplot('Flour','Sugar', data=df, hue='Type',\n",
    "            palette='Set1', fit_reg=False, scatter_kws={\"s\":70});"
   ]
  },
  {
   "cell_type": "code",
   "execution_count": 23,
   "id": "5d861f93",
   "metadata": {},
   "outputs": [
    {
     "data": {
      "text/plain": [
       "['Flour', 'Milk', 'Sugar', 'Butter', 'Egg', 'Baking Powder', 'Vanilla', 'Salt']"
      ]
     },
     "execution_count": 23,
     "metadata": {},
     "output_type": "execute_result"
    }
   ],
   "source": [
    "# format or pre-process our data\n",
    "type_label = np.where(df['Type']=='Muffin', 0,1)\n",
    "df_features = df.columns.values[1:].tolist()\n",
    "df_features"
   ]
  },
  {
   "cell_type": "code",
   "execution_count": 20,
   "id": "41612c99",
   "metadata": {},
   "outputs": [
    {
     "data": {
      "text/plain": [
       "array([[55,  3],\n",
       "       [47, 12],\n",
       "       [47, 18],\n",
       "       [45, 17],\n",
       "       [50, 12],\n",
       "       [55,  3],\n",
       "       [54,  7],\n",
       "       [47, 10],\n",
       "       [50, 17],\n",
       "       [50, 17],\n",
       "       [39, 26],\n",
       "       [42, 16],\n",
       "       [34, 20],\n",
       "       [39, 17],\n",
       "       [38, 23],\n",
       "       [42, 25],\n",
       "       [36, 21],\n",
       "       [38, 31],\n",
       "       [36, 24],\n",
       "       [34, 23]], dtype=int64)"
      ]
     },
     "execution_count": 20,
     "metadata": {},
     "output_type": "execute_result"
    }
   ],
   "source": [
    "ingredients = df[['Flour', 'Sugar']].values\n",
    "ingredients"
   ]
  },
  {
   "cell_type": "code",
   "execution_count": 24,
   "id": "1fc47191",
   "metadata": {},
   "outputs": [
    {
     "data": {
      "text/plain": [
       "SVC(kernel='linear')"
      ]
     },
     "execution_count": 24,
     "metadata": {},
     "output_type": "execute_result"
    }
   ],
   "source": [
    "## fit model\n",
    "model = svm.SVC(kernel='linear')\n",
    "model.fit(ingredients, type_label)"
   ]
  },
  {
   "cell_type": "code",
   "execution_count": 25,
   "id": "6c295d82",
   "metadata": {},
   "outputs": [],
   "source": [
    "## get the separating hyperplane\n",
    "w = model.coef_[0]\n",
    "a = -w[0] / w[1]\n",
    "xx = np.linspace(30,60)\n",
    "yy = a * xx - (model.intercept_[0]) / w[1]\n",
    "\n",
    "## plot the parallels to the separating hyperplane that pass through the support vectors\n",
    "b = model.support_vectors_[0]\n",
    "yy_down = a * xx +(b[1] - a * b[0])\n",
    "b = model.support_vectors_[-1]\n",
    "yy_up = a * xx + (b[0] - a * b[0])"
   ]
  },
  {
   "cell_type": "code",
   "execution_count": 26,
   "id": "cdd3b556",
   "metadata": {},
   "outputs": [
    {
     "data": {
      "text/plain": [
       "array([ 1.15779472e+16,  1.10528750e+16,  1.05278028e+16,  1.00027306e+16,\n",
       "        9.47765844e+15,  8.95258624e+15,  8.42751405e+15,  7.90244185e+15,\n",
       "        7.37736965e+15,  6.85229746e+15,  6.32722526e+15,  5.80215306e+15,\n",
       "        5.27708087e+15,  4.75200867e+15,  4.22693647e+15,  3.70186428e+15,\n",
       "        3.17679208e+15,  2.65171988e+15,  2.12664769e+15,  1.60157549e+15,\n",
       "        1.07650329e+15,  5.51431096e+14,  2.63588995e+13, -4.98713297e+14,\n",
       "       -1.02378549e+15, -1.54885769e+15, -2.07392989e+15, -2.59900208e+15,\n",
       "       -3.12407428e+15, -3.64914648e+15, -4.17421867e+15, -4.69929087e+15,\n",
       "       -5.22436307e+15, -5.74943526e+15, -6.27450746e+15, -6.79957966e+15,\n",
       "       -7.32465185e+15, -7.84972405e+15, -8.37479625e+15, -8.89986844e+15,\n",
       "       -9.42494064e+15, -9.95001284e+15, -1.04750850e+16, -1.10001572e+16,\n",
       "       -1.15252294e+16, -1.20503016e+16, -1.25753738e+16, -1.31004460e+16,\n",
       "       -1.36255182e+16, -1.41505904e+16])"
      ]
     },
     "execution_count": 26,
     "metadata": {},
     "output_type": "execute_result"
    }
   ],
   "source": [
    "yy"
   ]
  },
  {
   "cell_type": "code",
   "execution_count": 27,
   "id": "6d8df096",
   "metadata": {},
   "outputs": [
    {
     "data": {
      "text/plain": [
       "array([30.        , 30.6122449 , 31.2244898 , 31.83673469, 32.44897959,\n",
       "       33.06122449, 33.67346939, 34.28571429, 34.89795918, 35.51020408,\n",
       "       36.12244898, 36.73469388, 37.34693878, 37.95918367, 38.57142857,\n",
       "       39.18367347, 39.79591837, 40.40816327, 41.02040816, 41.63265306,\n",
       "       42.24489796, 42.85714286, 43.46938776, 44.08163265, 44.69387755,\n",
       "       45.30612245, 45.91836735, 46.53061224, 47.14285714, 47.75510204,\n",
       "       48.36734694, 48.97959184, 49.59183673, 50.20408163, 50.81632653,\n",
       "       51.42857143, 52.04081633, 52.65306122, 53.26530612, 53.87755102,\n",
       "       54.48979592, 55.10204082, 55.71428571, 56.32653061, 56.93877551,\n",
       "       57.55102041, 58.16326531, 58.7755102 , 59.3877551 , 60.        ])"
      ]
     },
     "execution_count": 27,
     "metadata": {},
     "output_type": "execute_result"
    }
   ],
   "source": [
    "xx"
   ]
  },
  {
   "cell_type": "code",
   "execution_count": 32,
   "id": "57b02e1f",
   "metadata": {},
   "outputs": [
    {
     "name": "stderr",
     "output_type": "stream",
     "text": [
      "C:\\Users\\HP\\anaconda3\\envs\\ds_course\\lib\\site-packages\\seaborn\\_decorators.py:36: FutureWarning: Pass the following variables as keyword args: x, y. From version 0.12, the only valid positional argument will be `data`, and passing other arguments without an explicit keyword will result in an error or misinterpretation.\n",
      "  warnings.warn(\n"
     ]
    },
    {
     "data": {
      "text/plain": [
       "[<matplotlib.lines.Line2D at 0x1750bde5be0>]"
      ]
     },
     "execution_count": 32,
     "metadata": {},
     "output_type": "execute_result"
    },
    {
     "data": {
      "image/png": "[encoded data removed]",
      "text/plain": [
       "<Figure size 459.77x360 with 1 Axes>"
      ]
     },
     "metadata": {
      "needs_background": "light"
     },
     "output_type": "display_data"
    }
   ],
   "source": [
    "sns.lmplot('Flour','Sugar', data=df, hue='Type', palette='Set1', fit_reg=False, scatter_kws={\"s\":70});\n",
    "\n",
    "plt.plot(xx,yy)\n",
    "plt.plot(xx, yy_down, 'k--')\n",
    "plt.plot(xx, yy_up, 'k--')"
   ]
  },
  {
   "cell_type": "code",
   "execution_count": 38,
   "id": "afdd4aab",
   "metadata": {},
   "outputs": [],
   "source": [
    "## create a function to predict muffin or cupcake\n",
    "def muffin_or_cupcake(flour, sugar):\n",
    "    if(model.predict([[flour, sugar]]))==0:\n",
    "        print('You are looking at a muffin recipe!')\n",
    "    else:\n",
    "        print('You are looking at a cupcake recipe!')"
   ]
  },
  {
   "cell_type": "code",
   "execution_count": 40,
   "id": "86dd9c55",
   "metadata": {},
   "outputs": [
    {
     "name": "stdout",
     "output_type": "stream",
     "text": [
      "You are looking at a cupcake recipe!\n"
     ]
    }
   ],
   "source": [
    "muffin_or_cupcake(12,13)"
   ]
  },
  {
   "cell_type": "code",
   "execution_count": 42,
   "id": "3440a86c",
   "metadata": {},
   "outputs": [
    {
     "name": "stderr",
     "output_type": "stream",
     "text": [
      "C:\\Users\\HP\\anaconda3\\envs\\ds_course\\lib\\site-packages\\seaborn\\_decorators.py:36: FutureWarning: Pass the following variables as keyword args: x, y. From version 0.12, the only valid positional argument will be `data`, and passing other arguments without an explicit keyword will result in an error or misinterpretation.\n",
      "  warnings.warn(\n"
     ]
    },
    {
     "data": {
      "text/plain": [
       "[<matplotlib.lines.Line2D at 0x1750bcf6250>]"
      ]
     },
     "execution_count": 42,
     "metadata": {},
     "output_type": "execute_result"
    },
    {
     "data": {
      "image/png": "[encoded data removed]",
      "text/plain": [
       "<Figure size 459.77x360 with 1 Axes>"
      ]
     },
     "metadata": {
      "needs_background": "light"
     },
     "output_type": "display_data"
    }
   ],
   "source": [
    "sns.lmplot('Flour','Sugar', data=df, hue='Type', palette='Set1', fit_reg=False, scatter_kws={\"s\":70});\n",
    "\n",
    "plt.plot(xx,yy)\n",
    "plt.plot(12,13, 'yo', markersize='9')"
   ]
  },
  {
   "cell_type": "code",
   "execution_count": null,
   "id": "da065fbe",
   "metadata": {},
   "outputs": [],
   "source": []
  }
 ],
 "metadata": {
  "kernelspec": {
   "display_name": "Python 3 (ipykernel)",
   "language": "python",
   "name": "python3"
  },
  "language_info": {
   "codemirror_mode": {
    "name": "ipython",
    "version": 3
   },
   "file_extension": ".py",
   "mimetype": "text/x-python",
   "name": "python",
   "nbconvert_exporter": "python",
   "pygments_lexer": "ipython3",
   "version": "3.9.11"
  }
 },
 "nbformat": 4,
 "nbformat_minor": 5
}
